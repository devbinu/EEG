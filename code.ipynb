{
  "nbformat": 4,
  "nbformat_minor": 0,
  "metadata": {
    "colab": {
      "name": "Analyzing_EEG",
      "provenance": [],
      "collapsed_sections": []
    },
    "kernelspec": {
      "name": "python3",
      "display_name": "Python 3"
    }
  },
  "cells": [
    {
      "cell_type": "code",
      "metadata": {
        "id": "4E5ht6qC7Wif",
        "colab_type": "code",
        "outputId": "b1cfc8e3-fa78-4ea5-b48c-269f854adbcc",
        "colab": {
          "base_uri": "https://localhost:8080/",
          "height": 63
        }
      },
      "source": [
        "import numpy as np\n",
        "from six.moves import urllib\n",
        "import os\n",
        "import tensorflow as tf\n",
        "import pickle\n",
        "\n",
        "DATA_DIRECTORY = \"data\"\n",
        "SOURCE_URL = 'http://35.183.27.27/'\n",
        "\n",
        "def maybe_download(filename):\n",
        "    \"\"\"Download the data, unless it's already here.\"\"\"\n",
        "    if not tf.gfile.Exists(DATA_DIRECTORY):\n",
        "        tf.gfile.MakeDirs(DATA_DIRECTORY)\n",
        "    filepath = os.path.join(DATA_DIRECTORY, filename)     \n",
        "    if not tf.gfile.Exists(filepath):\n",
        "        print('Start downloading dataset...')\n",
        "        filepath, _ = urllib.request.urlretrieve(SOURCE_URL + filename, filepath)         \n",
        "        with tf.gfile.GFile(filepath) as f:\n",
        "            size = f.size()\n",
        "        print('Successfully downloaded', filename, size, 'bytes.')\n",
        "    return filepath\n",
        "\n",
        "def dense_to_one_hot(labels_dense, num_classes = 3):\n",
        "    num_labels = labels_dense.shape[0]\n",
        "    index_offset = np.arange(num_labels) * num_classes\n",
        "    labels_one_hot = np.zeros((num_labels, num_classes))\n",
        "    labels_one_hot.flat[index_offset + labels_dense.ravel()] = 1\n",
        "    return labels_one_hot\n",
        "\n",
        "def load_data(filename, one_hot=False):\n",
        "    with open(filename, 'rb') as fo:\n",
        "        dict = pickle.load(fo, encoding='bytes')\n",
        "        data = dict['data']\n",
        "        labels = dict['label']\n",
        "\n",
        "        if one_hot:\n",
        "            labels = dense_to_one_hot(labels)\n",
        "        return data, labels\n",
        "\n",
        "class DataSet(object):\n",
        "    def __init__(self, data, labels):\n",
        "        assert data.shape[0] == labels.shape[0], (\"data.shape: %s labels.shape: %s\" % (data.shape, labels.shape))\n",
        "        self._num_examples = data.shape[0]\n",
        "\n",
        "        self._data = data\n",
        "        self._lables = labels\n",
        "        self._epochs_completed = 0\n",
        "        self._index_in_epoch = 0\n",
        "\n",
        "    @property\n",
        "    def data(self):\n",
        "        return self._data\n",
        "\n",
        "    @property\n",
        "    def labels(self):\n",
        "        return self._lables\n",
        "\n",
        "    @property\n",
        "    def num_examples(self):\n",
        "        return self._num_examples\n",
        "\n",
        "    @property\n",
        "    def epochs_completed(self):\n",
        "        return self._epochs_completed\n",
        "\n",
        "    def next_batch(self, batch_size):\n",
        "        start = self._index_in_epoch\n",
        "        self._index_in_epoch += batch_size\n",
        "        if self._index_in_epoch > self._num_examples:\n",
        "            self._epochs_completed += 1\n",
        "            perm = np.arange(self._num_examples)\n",
        "            np.random.shuffle(perm)\n",
        "            self._data = self._data[perm]\n",
        "            self._lables = self._lables[perm]\n",
        "\n",
        "            start = 0\n",
        "\n",
        "            self._index_in_epoch = batch_size\n",
        "\n",
        "            assert batch_size <= self._num_examples\n",
        "        end = self._index_in_epoch\n",
        "        return self._data[start:end], self._lables[start:end]\n",
        "\n",
        "def read_data_sets(one_hot=False):\n",
        "    class DataSets(object):\n",
        "        pass\n",
        "    train_filename = maybe_download('train')\n",
        "    test_filename = maybe_download('test')\n",
        "\n",
        "    train_data, train_labels = load_data(train_filename, one_hot)\n",
        "    test_data, test_labels = load_data(test_filename, one_hot)\n",
        "    data_sets = DataSets()\n",
        "    data_sets.train = DataSet(train_data, train_labels)\n",
        "    data_sets.test = DataSet(test_data, test_labels)\n",
        "    return data_sets"
      ],
      "execution_count": 1,
      "outputs": [
        {
          "output_type": "display_data",
          "data": {
            "text/html": [
              "<p style=\"color: red;\">\n",
              "The default version of TensorFlow in Colab will soon switch to TensorFlow 2.x.<br>\n",
              "We recommend you <a href=\"https://www.tensorflow.org/guide/migrate\" target=\"_blank\">upgrade</a> now \n",
              "or ensure your notebook will continue to use TensorFlow 1.x via the <code>%tensorflow_version 1.x</code> magic:\n",
              "<a href=\"https://colab.research.google.com/notebooks/tensorflow_version.ipynb\" target=\"_blank\">more info</a>.</p>\n"
            ],
            "text/plain": [
              "<IPython.core.display.HTML object>"
            ]
          },
          "metadata": {
            "tags": []
          }
        }
      ]
    },
    {
      "cell_type": "code",
      "metadata": {
        "id": "hk5rbU638AuG",
        "colab_type": "code",
        "colab": {
          "base_uri": "https://localhost:8080/",
          "height": 85
        },
        "outputId": "0110ff31-d1b7-4c35-b75e-cb49c0b5805a"
      },
      "source": [
        "# return DataSet class\n",
        "data = read_data_sets(one_hot=True)\n",
        "\n",
        "# get train data and labels by batch size\n",
        "train_x, train_label = data.train.next_batch(30000)\n",
        "\n",
        "# get test data\n",
        "test_x = data.test.data\n",
        "\n",
        "# get test labels\n",
        "test_labels = data.test.labels\n",
        "\n",
        "# get sample number\n",
        "n_samples = data.train.num_examples\n"
      ],
      "execution_count": 2,
      "outputs": [
        {
          "output_type": "stream",
          "text": [
            "Start downloading dataset...\n",
            "Successfully downloaded train 209530726 bytes.\n",
            "Start downloading dataset...\n",
            "Successfully downloaded test 144273978 bytes.\n"
          ],
          "name": "stdout"
        }
      ]
    },
    {
      "cell_type": "code",
      "metadata": {
        "id": "NV7ZCjN28bhS",
        "colab_type": "code",
        "outputId": "a0d63a1e-6664-4a72-efdf-f36b7a4c77f1",
        "colab": {
          "base_uri": "https://localhost:8080/",
          "height": 136
        }
      },
      "source": [
        "print(test_labels)"
      ],
      "execution_count": 8,
      "outputs": [
        {
          "output_type": "stream",
          "text": [
            "[[0. 0. 1.]\n",
            " [0. 0. 1.]\n",
            " [0. 0. 1.]\n",
            " ...\n",
            " [1. 0. 0.]\n",
            " [1. 0. 0.]\n",
            " [1. 0. 0.]]\n"
          ],
          "name": "stdout"
        }
      ]
    },
    {
      "cell_type": "code",
      "metadata": {
        "id": "7HhrWYF7YjK2",
        "colab_type": "code",
        "colab": {}
      },
      "source": [
        "from tensorflow.keras.models import Model\n",
        "from tensorflow.keras.layers import Dense, Input, Flatten, Reshape\n",
        "from tensorflow.keras.layers import Conv1D, MaxPooling1D, Concatenate\n",
        "\n",
        "def LucasCoordConv():\n",
        "    \"\"\"Return LucasCoordConv implementation.\n",
        "    Returns\n",
        "    -------\n",
        "    Sequential keras model\n",
        "        Model.\n",
        "    \"\"\"\n",
        "    seq_length = 62\n",
        "    kernel_size = 3\n",
        "    activation = \"relu\"\n",
        "    padding = \"valid\"\n",
        "\n",
        "    inp = Input(shape=(seq_length, 5))\n",
        "\n",
        "    # CoordCONV1\n",
        "    #x = CoordinateChannel1D()(inp)\n",
        "    x = Conv1D(filters=28,\n",
        "               kernel_size=kernel_size,\n",
        "               activation=activation,\n",
        "               padding=padding)(inp)\n",
        "    x = MaxPooling1D(2)(x)\n",
        "\n",
        "    # CONV2\n",
        "    x = Conv1D(filters=64,\n",
        "               kernel_size=kernel_size,\n",
        "               activation=activation,\n",
        "               padding=padding)(x)\n",
        "    x = MaxPooling1D(2)(x)\n",
        "\n",
        "    # CONV3\n",
        "    x = Conv1D(filters=64,\n",
        "               kernel_size=kernel_size,\n",
        "               activation=activation,\n",
        "               padding=padding)(x)\n",
        "    x = MaxPooling1D(2)(x)\n",
        "\n",
        "    # CONV4\n",
        "    x = Conv1D(filters=64,\n",
        "               kernel_size=kernel_size,\n",
        "               activation=activation,\n",
        "               padding=padding)(x)\n",
        "    x = MaxPooling1D(2)(x)\n",
        "\n",
        "    # Flatte, FC1, FC2, Softmax\n",
        "    x = Flatten()(x)\n",
        "    x = Dense(62, activation=activation)(x)\n",
        "    x = Dense(28, activation=activation)(x)\n",
        "    x = Dense(3, activation=\"softmax\")(x)\n",
        "\n",
        "    return Model(inputs=inp, outputs=x)"
      ],
      "execution_count": 0,
      "outputs": []
    },
    {
      "cell_type": "code",
      "metadata": {
        "id": "HGwi4dqoe5kS",
        "colab_type": "code",
        "outputId": "36ec17b0-0e83-47e7-8b76-7b15d05140d2",
        "colab": {
          "base_uri": "https://localhost:8080/",
          "height": 823
        }
      },
      "source": [
        "import datetime\n",
        "import numpy as np\n",
        "import pandas as pd\n",
        "import tensorflow as tf\n",
        "from tensorflow.keras.callbacks import EarlyStopping, TensorBoard\n",
        "import matplotlib.pyplot as plt\n",
        "from sklearn.model_selection import train_test_split\n",
        "predict_global=None\n",
        "def lucas_classification(model_name=\"LucasCNN\", batch_size=32,\n",
        "                         epochs=15, random_state=None, verbose=0):\n",
        "    run = datetime.datetime.now().strftime(\"%Y%m%d_%H%M%S_\") + model_name\n",
        "\n",
        "    # 0. set random states\n",
        "    np.random.seed(random_state)\n",
        "    #tf.random.set_seed(random_state+1)\n",
        "\n",
        "    # 1. get data\n",
        "    X_train= np.reshape(train_x,(30000,62,5))\n",
        "    #X_val \n",
        "    y_train=train_label\n",
        "    #y_val\n",
        "    X_train, X_val, y_train, y_val = train_test_split(X_train, y_train, test_size=0.10, random_state=42)\n",
        "\n",
        "\n",
        "    # 2. get model\n",
        "    model = LucasCoordConv()\n",
        "\n",
        "    # 3. set up callbacks\n",
        "    tensorboard = TensorBoard(\n",
        "        log_dir='./logs/'+run,\n",
        "        write_graph=True,\n",
        "        write_grads=True,\n",
        "        write_images=True,\n",
        "        update_freq='epoch',\n",
        "        histogram_freq=5)\n",
        "    earlystopping = EarlyStopping(monitor=\"val_accuracy\", patience=40)\n",
        "\n",
        "    # 4. compile\n",
        "    model.compile(\n",
        "        loss=\"categorical_crossentropy\",\n",
        "        optimizer=\"adam\",\n",
        "        metrics=[\"categorical_accuracy\"])\n",
        "\n",
        "    # 5. fit to data\n",
        "    history = model.fit(\n",
        "        X_train, y_train,\n",
        "        batch_size=batch_size,\n",
        "        epochs=epochs,\n",
        "        verbose=verbose,\n",
        "        #validation_data=(X_val, y_val),\n",
        "        callbacks=[tensorboard, earlystopping])\n",
        "\n",
        "    plt.plot(history.history['categorical_accuracy'])\n",
        "    plt.ylabel('accuracy')\n",
        "    plt.xlabel('epoch')\n",
        "    plt.show()\n",
        "    # 6. calculate score\n",
        "    X_test = np.reshape(test_x, (test_x.shape[0],62,5))\n",
        "    predict = model.predict(X_test)\n",
        "    print(predict)\n",
        "\n",
        "    score = model.evaluate(X_val, y_val, batch_size=batch_size)\n",
        "    return score,predict\n",
        "\n",
        "\n",
        "if __name__ == '__main__':\n",
        "    score,predict = lucas_classification()\n",
        "    print(score)\n",
        "    predict_global= np.around(predict)\n",
        "    predict_sum=np.sum(predict_global,axis=0)\n",
        "    print(predict_global)\n",
        "    print(predict_sum)"
      ],
      "execution_count": 16,
      "outputs": [
        {
          "output_type": "stream",
          "text": [
            "WARNING:tensorflow:Early stopping conditioned on metric `val_accuracy` which is not available. Available metrics are: loss,categorical_accuracy\n",
            "WARNING:tensorflow:Early stopping conditioned on metric `val_accuracy` which is not available. Available metrics are: loss,categorical_accuracy\n",
            "WARNING:tensorflow:Early stopping conditioned on metric `val_accuracy` which is not available. Available metrics are: loss,categorical_accuracy\n",
            "WARNING:tensorflow:Early stopping conditioned on metric `val_accuracy` which is not available. Available metrics are: loss,categorical_accuracy\n",
            "WARNING:tensorflow:Early stopping conditioned on metric `val_accuracy` which is not available. Available metrics are: loss,categorical_accuracy\n",
            "WARNING:tensorflow:Early stopping conditioned on metric `val_accuracy` which is not available. Available metrics are: loss,categorical_accuracy\n",
            "WARNING:tensorflow:Early stopping conditioned on metric `val_accuracy` which is not available. Available metrics are: loss,categorical_accuracy\n",
            "WARNING:tensorflow:Early stopping conditioned on metric `val_accuracy` which is not available. Available metrics are: loss,categorical_accuracy\n",
            "WARNING:tensorflow:Early stopping conditioned on metric `val_accuracy` which is not available. Available metrics are: loss,categorical_accuracy\n",
            "WARNING:tensorflow:Early stopping conditioned on metric `val_accuracy` which is not available. Available metrics are: loss,categorical_accuracy\n",
            "WARNING:tensorflow:Early stopping conditioned on metric `val_accuracy` which is not available. Available metrics are: loss,categorical_accuracy\n",
            "WARNING:tensorflow:Early stopping conditioned on metric `val_accuracy` which is not available. Available metrics are: loss,categorical_accuracy\n",
            "WARNING:tensorflow:Early stopping conditioned on metric `val_accuracy` which is not available. Available metrics are: loss,categorical_accuracy\n",
            "WARNING:tensorflow:Early stopping conditioned on metric `val_accuracy` which is not available. Available metrics are: loss,categorical_accuracy\n",
            "WARNING:tensorflow:Early stopping conditioned on metric `val_accuracy` which is not available. Available metrics are: loss,categorical_accuracy\n"
          ],
          "name": "stdout"
        },
        {
          "output_type": "display_data",
          "data": {
            "image/png": "[encoded data removed]",
            "text/plain": [
              "<Figure size 432x288 with 1 Axes>"
            ]
          },
          "metadata": {
            "tags": []
          }
        },
        {
          "output_type": "stream",
          "text": [
            "[[4.58934010e-05 1.03147555e-23 9.99954104e-01]\n",
            " [4.90620041e-05 1.11774924e-23 9.99950886e-01]\n",
            " [5.03396368e-05 1.19748162e-23 9.99949694e-01]\n",
            " ...\n",
            " [9.82485294e-01 1.75147261e-02 4.37209383e-12]\n",
            " [9.80527639e-01 1.94723923e-02 4.67974401e-12]\n",
            " [9.80131567e-01 1.98683925e-02 4.78875837e-12]]\n",
            "3000/3000 [==============================] - 1s 218us/sample - loss: 4.2677e-07 - categorical_accuracy: 1.0000\n",
            "[4.267663063970417e-07, 1.0]\n",
            "[[0. 0. 1.]\n",
            " [0. 0. 1.]\n",
            " [0. 0. 1.]\n",
            " ...\n",
            " [1. 0. 0.]\n",
            " [1. 0. 0.]\n",
            " [1. 0. 0.]]\n",
            "[16394. 22172. 19555.]\n"
          ],
          "name": "stdout"
        }
      ]
    },
    {
      "cell_type": "code",
      "metadata": {
        "id": "Kang94czetQa",
        "colab_type": "code",
        "colab": {}
      },
      "source": [
        "predict_sum=np.around(np.sum(predict_global,axis=0))\n"
      ],
      "execution_count": 0,
      "outputs": []
    },
    {
      "cell_type": "code",
      "metadata": {
        "id": "s2xWsV0vfcWI",
        "colab_type": "code",
        "colab": {
          "base_uri": "https://localhost:8080/",
          "height": 34
        },
        "outputId": "93c6af03-4ee7-4d94-d61c-5434621920c8"
      },
      "source": [
        "print(predict_sum)"
      ],
      "execution_count": 15,
      "outputs": [
        {
          "output_type": "stream",
          "text": [
            "[14900. 27249. 15901.]\n"
          ],
          "name": "stdout"
        }
      ]
    },
    {
      "cell_type": "code",
      "metadata": {
        "id": "CePEeI-ofdp7",
        "colab_type": "code",
        "colab": {}
      },
      "source": [
        ""
      ],
      "execution_count": 0,
      "outputs": []
    }
  ]
}
